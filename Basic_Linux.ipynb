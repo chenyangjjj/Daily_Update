{
 "cells": [
  {
   "cell_type": "markdown",
   "id": "69822b02",
   "metadata": {},
   "source": []
  },
  {
   "cell_type": "code",
   "execution_count": null,
   "id": "bad03c37",
   "metadata": {},
   "outputs": [],
   "source": [
    "find ./ -name \"sub-ALZH*.mat\" -type f -delete\n",
    "\n",
    "find . -type d -print0 | xargs -0 -I {} bash -c \"if [ -e '{}/triu_rotcorr.mat' ] && [ -e '{}/triu_rrcorr.mat' ]; then echo '{}'; fi\" | wc -l\n",
    "\n",
    "find /scratch-shared/jiangc/all_results_8_Feb_2023 -name \"*.tar.gz\" | wc -l\n",
    "\n",
    "# find / ls / wc / grep /pigz / grep\n",
    "\n",
    "# xargs"
   ]
  },
  {
   "cell_type": "markdown",
   "id": "5ef41f66",
   "metadata": {},
   "source": [
    "- slurm 提交任务，monitor任务\n",
    "\n",
    "https://servicedesk.surf.nl/wiki/display/WIKI/The+job+scheduler\n",
    "\n",
    "https://servicedesk.surf.nl/wiki/display/WIKI/Environment+variables+within+a+job  slurm的环境变量\n",
    "\n",
    "https://rcc.uchicago.edu/docs/running-jobs/array/index.html#:~:text=Slurm%20job%20arrays%20provide%20a,a%20collection%20of%20data%20sets. CHICAGO wiki\n",
    "\n",
    "\"I don't know exactly what you are trying to do, but from your doubts, I bet the array approach is not the correct one. Namely, SLURM arrays are used \"to submit a number of identical jobs without having drive the submission with an external script.\" Therefore, each job will be enqueued in our system as if you submitted them manually, and they will be processed whenever there is an available spot. In other words, you are running 100 independent tasks, but not a parallel job with 100 tasks.It is also worth mentioning that you are requesting a single task (-n 1). However, the minimum allocation possible in our system is 1/4 of a node, that is, 32 cores (i.e., no matter if you use 1 core or 32, you will be charged for 32 cores). Furthermore, you are using fat nodes, and this costs 1.5 times more than thin nodes. Hence, each single-core job in your array will be charged 48 SBU per hour.\"\n",
    "： array job是等于手动提交了100次独立的脚本，并不会独立运行"
   ]
  },
  {
   "cell_type": "code",
   "execution_count": null,
   "id": "d958a88b",
   "metadata": {},
   "outputs": [],
   "source": [
    "#!/bin/bash\n",
    "#SBATCH --nodes=1\n",
    "#SBATCH --ntasks=1\n",
    "#SBATCH --mem=80G\n",
    "#SBATCH --cpus-per-task=32\n",
    "#SBATCH --partition=thin\n",
    "#SBATCH --priority=10000\n",
    "#SBATCH --time=8:00:00\n"
   ]
  },
  {
   "cell_type": "code",
   "execution_count": null,
   "id": "98b32119",
   "metadata": {},
   "outputs": [],
   "source": [
    "# 批量parallel 打包压缩，解压缩\n",
    "cd /scratch-shared/jiangc/spm_outputs_7Nov_all_scratch\n",
    "cat /home/jiangc/test/spm_test/GMN_folder/spm_outputs_7Nov_all_scratch.txt | xargs -P 20 -I {} tar -cf /scratch-shared/jiangc/all_results_8_Feb_2023/{}.tar {}\n",
    "cd /scratch-shared/jiangc/all_results_8_Feb_2023/\n",
    "pigz -9 -p20 ./*"
   ]
  },
  {
   "cell_type": "code",
   "execution_count": null,
   "id": "d5b55b08",
   "metadata": {},
   "outputs": [],
   "source": [
    "# module 加载查询包\n",
    "\n",
    "module avail\n",
    "module spider\n",
    "module avail Python #哪些Python包可用"
   ]
  }
 ],
 "metadata": {
  "kernelspec": {
   "display_name": "Bash",
   "language": "bash",
   "name": "bash"
  },
  "language_info": {
   "codemirror_mode": "shell",
   "file_extension": ".sh",
   "mimetype": "text/x-sh",
   "name": "bash"
  }
 },
 "nbformat": 4,
 "nbformat_minor": 5
}
